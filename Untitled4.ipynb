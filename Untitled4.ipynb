{
  "nbformat": 4,
  "nbformat_minor": 0,
  "metadata": {
    "colab": {
      "provenance": []
    },
    "kernelspec": {
      "name": "python3",
      "display_name": "Python 3"
    },
    "language_info": {
      "name": "python"
    }
  },
  "cells": [
    {
      "cell_type": "code",
      "execution_count": null,
      "metadata": {
        "id": "BJ4uAiLcY33h"
      },
      "outputs": [],
      "source": [
        "import pandas as pd\n",
        "from sklearn.model_selection import train_test_split\n",
        "from sklearn.preprocessing import OneHotEncoder, StandardScaler\n",
        "from sklearn.compose import ColumnTransformer\n",
        "from sklearn.pipeline import Pipeline\n",
        "from sklearn.ensemble import RandomForestClassifier\n",
        "from sklearn.multioutput import MultiOutputClassifier\n",
        "from sklearn.metrics import roc_auc_score"
      ]
    },
    {
      "cell_type": "code",
      "source": [
        "train_features = pd.read_csv('training_set_features.csv')\n",
        "train_labels = pd.read_csv('training_set_labels.csv')\n",
        "test_features = pd.read_csv('test_set_features.csv')\n",
        "submission_format = pd.read_csv('submission_format.csv')"
      ],
      "metadata": {
        "id": "BySr6aHUZDrQ"
      },
      "execution_count": null,
      "outputs": []
    },
    {
      "cell_type": "code",
      "source": [
        "train_features = train_features.drop(columns=['respondent_id'])\n",
        "test_features_ids = test_features['respondent_id']\n",
        "test_features = test_features.drop(columns=['respondent_id'])"
      ],
      "metadata": {
        "id": "anl4Bo2qZEnz"
      },
      "execution_count": null,
      "outputs": []
    },
    {
      "cell_type": "code",
      "source": [
        "categorical_features = [\n",
        "    'age_group', 'education', 'race', 'income_poverty', 'marital_status',\n",
        "    'rent_or_own', 'employment_status', 'hhs_geo_region', 'census_msa',\n",
        "    'employment_industry', 'employment_occupation'\n",
        "]\n",
        "numerical_features = [col for col in train_features.columns if col not in categorical_features]\n"
      ],
      "metadata": {
        "id": "HtOn8WdcZG4T"
      },
      "execution_count": null,
      "outputs": []
    },
    {
      "cell_type": "code",
      "source": [
        "preprocessor = ColumnTransformer(\n",
        "    transformers=[\n",
        "        ('num', StandardScaler(), numerical_features),\n",
        "        ('cat', OneHotEncoder(handle_unknown='ignore'), categorical_features)\n",
        "    ])\n"
      ],
      "metadata": {
        "id": "VxDY8ykpZMQz"
      },
      "execution_count": null,
      "outputs": []
    },
    {
      "cell_type": "code",
      "source": [
        "model = Pipeline(steps=[\n",
        "    ('preprocessor', preprocessor),\n",
        "    ('classifier', MultiOutputClassifier(RandomForestClassifier(n_estimators=100, random_state=42)))\n",
        "])"
      ],
      "metadata": {
        "id": "D1ncWwCXZNQN"
      },
      "execution_count": null,
      "outputs": []
    },
    {
      "cell_type": "code",
      "source": [
        "X_train, X_val, y_train, y_val = train_test_split(train_features, train_labels[['xyz_vaccine', 'seasonal_vaccine']], test_size=0.2, random_state=42)"
      ],
      "metadata": {
        "id": "y0R8t8j3ZNI0"
      },
      "execution_count": null,
      "outputs": []
    },
    {
      "cell_type": "code",
      "source": [
        "model.fit(X_train, y_train)"
      ],
      "metadata": {
        "id": "FgVf8UmWZNAh"
      },
      "execution_count": null,
      "outputs": []
    },
    {
      "cell_type": "code",
      "source": [
        "y_val_pred_prob = model.predict_proba(X_val)\n"
      ],
      "metadata": {
        "id": "jaaIP9YsZWbl"
      },
      "execution_count": null,
      "outputs": []
    },
    {
      "cell_type": "code",
      "source": [
        "roc_auc_xyz = roc_auc_score(y_val['xyz_vaccine'], y_val_pred_prob[0][:, 1])\n",
        "roc_auc_seasonal = roc_auc_score(y_val['seasonal_vaccine'], y_val_pred_prob[1][:, 1])\n",
        "mean_roc_auc = (roc_auc_xyz + roc_auc_seasonal) / 2"
      ],
      "metadata": {
        "id": "VBAuSPAxZWYK"
      },
      "execution_count": null,
      "outputs": []
    },
    {
      "cell_type": "code",
      "source": [
        "print(f'Mean ROC AUC on validation set: {mean_roc_auc}')\n"
      ],
      "metadata": {
        "id": "Xq7SoAxAZWVq"
      },
      "execution_count": null,
      "outputs": []
    },
    {
      "cell_type": "code",
      "source": [
        "test_pred_prob = model.predict_proba(test_features)"
      ],
      "metadata": {
        "id": "-8o73WBRZWTR"
      },
      "execution_count": null,
      "outputs": []
    },
    {
      "cell_type": "code",
      "source": [
        "submission = pd.DataFrame({\n",
        "    'respondent_id': test_features_ids,\n",
        "    'xyz_vaccine': test_pred_prob[0][:, 1],\n",
        "    'seasonal_vaccine': test_pred_prob[1][:, 1]\n",
        "})\n",
        "\n",
        "submission.to_csv('submission.csv', index=False)"
      ],
      "metadata": {
        "id": "lxL-lRzmZWQn"
      },
      "execution_count": null,
      "outputs": []
    }
  ]
}